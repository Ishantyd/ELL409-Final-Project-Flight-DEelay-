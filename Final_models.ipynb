{
  "cells": [
    {
      "cell_type": "code",
      "execution_count": 1,
      "metadata": {
        "id": "29qxOSLynaqs"
      },
      "outputs": [],
      "source": [
        "import datetime, warnings, scipy\n",
        "from imblearn.over_sampling import SMOTE\n",
        "import pandas as pd\n",
        "import numpy as np\n",
        "import seaborn as sns\n",
        "import matplotlib as mpl\n",
        "from sklearn.model_selection import RandomizedSearchCV\n",
        "import matplotlib.pyplot as plt\n",
        "import matplotlib.patches as patches\n",
        "from sklearn.ensemble import RandomForestClassifier,AdaBoostClassifier\n",
        "from sklearn.metrics import roc_auc_score,confusion_matrix,f1_score\n",
        "from matplotlib.patches import ConnectionPatch\n",
        "from collections import OrderedDict\n",
        "from matplotlib.gridspec import GridSpec\n",
        "# from mpl_toolkits.basemap import Basemap\n",
        "from sklearn import metrics, linear_model\n",
        "from sklearn.preprocessing import PolynomialFeatures, StandardScaler\n",
        "from sklearn.preprocessing import LabelEncoder, OneHotEncoder\n",
        "from sklearn.model_selection import train_test_split, cross_val_score, cross_val_predict\n",
        "from scipy.optimize import curve_fit\n",
        "plt.rcParams[\"patch.force_edgecolor\"] = True\n",
        "plt.style.use('fivethirtyeight')\n",
        "mpl.rc('patch', edgecolor = 'dimgray', linewidth=1)\n",
        "from IPython.core.interactiveshell import InteractiveShell\n",
        "import tensorflow as tf\n",
        "from tensorflow.keras.models import Sequential\n",
        "from tensorflow.keras.layers import Dense, Dropout\n",
        "from tensorflow.keras.optimizers import Adam\n",
        "InteractiveShell.ast_node_interactivity = \"last_expr\"\n",
        "pd.options.display.max_columns = 50\n",
        "%matplotlib inline\n",
        "warnings.filterwarnings(\"ignore\")"
      ]
    },
    {
      "cell_type": "code",
      "execution_count": 2,
      "metadata": {
        "colab": {
          "base_uri": "https://localhost:8080/",
          "height": 107
        },
        "id": "xR3V4cgInaqz",
        "outputId": "c1d4c6cc-8d6c-4589-9f63-cf9a37dc5440"
      },
      "outputs": [
        {
          "output_type": "stream",
          "name": "stdout",
          "text": [
            "Dataframe dimensions: (100000, 9)\n"
          ]
        },
        {
          "output_type": "execute_result",
          "data": {
            "text/plain": [
              "              Month DayofMonth DayOfWeek DepTime UniqueCarrier  Origin  \\\n",
              "column type  object     object    object   int64        object  object   \n",
              "\n",
              "               Dest Distance dep_delayed_15min  \n",
              "column type  object    int64            object  "
            ],
            "text/html": [
              "\n",
              "  <div id=\"df-b0859648-d5ae-4aab-92b8-64231471a681\" class=\"colab-df-container\">\n",
              "    <div>\n",
              "<style scoped>\n",
              "    .dataframe tbody tr th:only-of-type {\n",
              "        vertical-align: middle;\n",
              "    }\n",
              "\n",
              "    .dataframe tbody tr th {\n",
              "        vertical-align: top;\n",
              "    }\n",
              "\n",
              "    .dataframe thead th {\n",
              "        text-align: right;\n",
              "    }\n",
              "</style>\n",
              "<table border=\"1\" class=\"dataframe\">\n",
              "  <thead>\n",
              "    <tr style=\"text-align: right;\">\n",
              "      <th></th>\n",
              "      <th>Month</th>\n",
              "      <th>DayofMonth</th>\n",
              "      <th>DayOfWeek</th>\n",
              "      <th>DepTime</th>\n",
              "      <th>UniqueCarrier</th>\n",
              "      <th>Origin</th>\n",
              "      <th>Dest</th>\n",
              "      <th>Distance</th>\n",
              "      <th>dep_delayed_15min</th>\n",
              "    </tr>\n",
              "  </thead>\n",
              "  <tbody>\n",
              "    <tr>\n",
              "      <th>column type</th>\n",
              "      <td>object</td>\n",
              "      <td>object</td>\n",
              "      <td>object</td>\n",
              "      <td>int64</td>\n",
              "      <td>object</td>\n",
              "      <td>object</td>\n",
              "      <td>object</td>\n",
              "      <td>int64</td>\n",
              "      <td>object</td>\n",
              "    </tr>\n",
              "  </tbody>\n",
              "</table>\n",
              "</div>\n",
              "    <div class=\"colab-df-buttons\">\n",
              "\n",
              "  <div class=\"colab-df-container\">\n",
              "    <button class=\"colab-df-convert\" onclick=\"convertToInteractive('df-b0859648-d5ae-4aab-92b8-64231471a681')\"\n",
              "            title=\"Convert this dataframe to an interactive table.\"\n",
              "            style=\"display:none;\">\n",
              "\n",
              "  <svg xmlns=\"http://www.w3.org/2000/svg\" height=\"24px\" viewBox=\"0 -960 960 960\">\n",
              "    <path d=\"M120-120v-720h720v720H120Zm60-500h600v-160H180v160Zm220 220h160v-160H400v160Zm0 220h160v-160H400v160ZM180-400h160v-160H180v160Zm440 0h160v-160H620v160ZM180-180h160v-160H180v160Zm440 0h160v-160H620v160Z\"/>\n",
              "  </svg>\n",
              "    </button>\n",
              "\n",
              "  <style>\n",
              "    .colab-df-container {\n",
              "      display:flex;\n",
              "      gap: 12px;\n",
              "    }\n",
              "\n",
              "    .colab-df-convert {\n",
              "      background-color: #E8F0FE;\n",
              "      border: none;\n",
              "      border-radius: 50%;\n",
              "      cursor: pointer;\n",
              "      display: none;\n",
              "      fill: #1967D2;\n",
              "      height: 32px;\n",
              "      padding: 0 0 0 0;\n",
              "      width: 32px;\n",
              "    }\n",
              "\n",
              "    .colab-df-convert:hover {\n",
              "      background-color: #E2EBFA;\n",
              "      box-shadow: 0px 1px 2px rgba(60, 64, 67, 0.3), 0px 1px 3px 1px rgba(60, 64, 67, 0.15);\n",
              "      fill: #174EA6;\n",
              "    }\n",
              "\n",
              "    .colab-df-buttons div {\n",
              "      margin-bottom: 4px;\n",
              "    }\n",
              "\n",
              "    [theme=dark] .colab-df-convert {\n",
              "      background-color: #3B4455;\n",
              "      fill: #D2E3FC;\n",
              "    }\n",
              "\n",
              "    [theme=dark] .colab-df-convert:hover {\n",
              "      background-color: #434B5C;\n",
              "      box-shadow: 0px 1px 3px 1px rgba(0, 0, 0, 0.15);\n",
              "      filter: drop-shadow(0px 1px 2px rgba(0, 0, 0, 0.3));\n",
              "      fill: #FFFFFF;\n",
              "    }\n",
              "  </style>\n",
              "\n",
              "    <script>\n",
              "      const buttonEl =\n",
              "        document.querySelector('#df-b0859648-d5ae-4aab-92b8-64231471a681 button.colab-df-convert');\n",
              "      buttonEl.style.display =\n",
              "        google.colab.kernel.accessAllowed ? 'block' : 'none';\n",
              "\n",
              "      async function convertToInteractive(key) {\n",
              "        const element = document.querySelector('#df-b0859648-d5ae-4aab-92b8-64231471a681');\n",
              "        const dataTable =\n",
              "          await google.colab.kernel.invokeFunction('convertToInteractive',\n",
              "                                                    [key], {});\n",
              "        if (!dataTable) return;\n",
              "\n",
              "        const docLinkHtml = 'Like what you see? Visit the ' +\n",
              "          '<a target=\"_blank\" href=https://colab.research.google.com/notebooks/data_table.ipynb>data table notebook</a>'\n",
              "          + ' to learn more about interactive tables.';\n",
              "        element.innerHTML = '';\n",
              "        dataTable['output_type'] = 'display_data';\n",
              "        await google.colab.output.renderOutput(dataTable, element);\n",
              "        const docLink = document.createElement('div');\n",
              "        docLink.innerHTML = docLinkHtml;\n",
              "        element.appendChild(docLink);\n",
              "      }\n",
              "    </script>\n",
              "  </div>\n",
              "\n",
              "\n",
              "  <div id=\"id_e80df486-44c3-41cc-bf9c-60904dcecf09\">\n",
              "    <style>\n",
              "      .colab-df-generate {\n",
              "        background-color: #E8F0FE;\n",
              "        border: none;\n",
              "        border-radius: 50%;\n",
              "        cursor: pointer;\n",
              "        display: none;\n",
              "        fill: #1967D2;\n",
              "        height: 32px;\n",
              "        padding: 0 0 0 0;\n",
              "        width: 32px;\n",
              "      }\n",
              "\n",
              "      .colab-df-generate:hover {\n",
              "        background-color: #E2EBFA;\n",
              "        box-shadow: 0px 1px 2px rgba(60, 64, 67, 0.3), 0px 1px 3px 1px rgba(60, 64, 67, 0.15);\n",
              "        fill: #174EA6;\n",
              "      }\n",
              "\n",
              "      [theme=dark] .colab-df-generate {\n",
              "        background-color: #3B4455;\n",
              "        fill: #D2E3FC;\n",
              "      }\n",
              "\n",
              "      [theme=dark] .colab-df-generate:hover {\n",
              "        background-color: #434B5C;\n",
              "        box-shadow: 0px 1px 3px 1px rgba(0, 0, 0, 0.15);\n",
              "        filter: drop-shadow(0px 1px 2px rgba(0, 0, 0, 0.3));\n",
              "        fill: #FFFFFF;\n",
              "      }\n",
              "    </style>\n",
              "    <button class=\"colab-df-generate\" onclick=\"generateWithVariable('tab_info')\"\n",
              "            title=\"Generate code using this dataframe.\"\n",
              "            style=\"display:none;\">\n",
              "\n",
              "  <svg xmlns=\"http://www.w3.org/2000/svg\" height=\"24px\"viewBox=\"0 0 24 24\"\n",
              "       width=\"24px\">\n",
              "    <path d=\"M7,19H8.4L18.45,9,17,7.55,7,17.6ZM5,21V16.75L18.45,3.32a2,2,0,0,1,2.83,0l1.4,1.43a1.91,1.91,0,0,1,.58,1.4,1.91,1.91,0,0,1-.58,1.4L9.25,21ZM18.45,9,17,7.55Zm-12,3A5.31,5.31,0,0,0,4.9,8.1,5.31,5.31,0,0,0,1,6.5,5.31,5.31,0,0,0,4.9,4.9,5.31,5.31,0,0,0,6.5,1,5.31,5.31,0,0,0,8.1,4.9,5.31,5.31,0,0,0,12,6.5,5.46,5.46,0,0,0,6.5,12Z\"/>\n",
              "  </svg>\n",
              "    </button>\n",
              "    <script>\n",
              "      (() => {\n",
              "      const buttonEl =\n",
              "        document.querySelector('#id_e80df486-44c3-41cc-bf9c-60904dcecf09 button.colab-df-generate');\n",
              "      buttonEl.style.display =\n",
              "        google.colab.kernel.accessAllowed ? 'block' : 'none';\n",
              "\n",
              "      buttonEl.onclick = () => {\n",
              "        google.colab.notebook.generateWithVariable('tab_info');\n",
              "      }\n",
              "      })();\n",
              "    </script>\n",
              "  </div>\n",
              "\n",
              "    </div>\n",
              "  </div>\n"
            ],
            "application/vnd.google.colaboratory.intrinsic+json": {
              "type": "dataframe",
              "variable_name": "tab_info",
              "summary": "{\n  \"name\": \"tab_info\",\n  \"rows\": 1,\n  \"fields\": [\n    {\n      \"column\": \"Month\",\n      \"properties\": {\n        \"dtype\": \"string\",\n        \"num_unique_values\": 1,\n        \"samples\": [\n          \"object\"\n        ],\n        \"semantic_type\": \"\",\n        \"description\": \"\"\n      }\n    },\n    {\n      \"column\": \"DayofMonth\",\n      \"properties\": {\n        \"dtype\": \"string\",\n        \"num_unique_values\": 1,\n        \"samples\": [\n          \"object\"\n        ],\n        \"semantic_type\": \"\",\n        \"description\": \"\"\n      }\n    },\n    {\n      \"column\": \"DayOfWeek\",\n      \"properties\": {\n        \"dtype\": \"string\",\n        \"num_unique_values\": 1,\n        \"samples\": [\n          \"object\"\n        ],\n        \"semantic_type\": \"\",\n        \"description\": \"\"\n      }\n    },\n    {\n      \"column\": \"DepTime\",\n      \"properties\": {\n        \"dtype\": \"string\",\n        \"num_unique_values\": 1,\n        \"samples\": [\n          \"int64\"\n        ],\n        \"semantic_type\": \"\",\n        \"description\": \"\"\n      }\n    },\n    {\n      \"column\": \"UniqueCarrier\",\n      \"properties\": {\n        \"dtype\": \"string\",\n        \"num_unique_values\": 1,\n        \"samples\": [\n          \"object\"\n        ],\n        \"semantic_type\": \"\",\n        \"description\": \"\"\n      }\n    },\n    {\n      \"column\": \"Origin\",\n      \"properties\": {\n        \"dtype\": \"string\",\n        \"num_unique_values\": 1,\n        \"samples\": [\n          \"object\"\n        ],\n        \"semantic_type\": \"\",\n        \"description\": \"\"\n      }\n    },\n    {\n      \"column\": \"Dest\",\n      \"properties\": {\n        \"dtype\": \"string\",\n        \"num_unique_values\": 1,\n        \"samples\": [\n          \"object\"\n        ],\n        \"semantic_type\": \"\",\n        \"description\": \"\"\n      }\n    },\n    {\n      \"column\": \"Distance\",\n      \"properties\": {\n        \"dtype\": \"string\",\n        \"num_unique_values\": 1,\n        \"samples\": [\n          \"int64\"\n        ],\n        \"semantic_type\": \"\",\n        \"description\": \"\"\n      }\n    },\n    {\n      \"column\": \"dep_delayed_15min\",\n      \"properties\": {\n        \"dtype\": \"string\",\n        \"num_unique_values\": 1,\n        \"samples\": [\n          \"object\"\n        ],\n        \"semantic_type\": \"\",\n        \"description\": \"\"\n      }\n    }\n  ]\n}"
            }
          },
          "metadata": {},
          "execution_count": 2
        }
      ],
      "source": [
        "df = pd.read_csv('flight_delays_train.csv', low_memory=False)\n",
        "print('Dataframe dimensions:', df.shape)\n",
        "\n",
        "tab_info=pd.DataFrame(df.dtypes).T.rename(index={0:'column type'})\n",
        "tab_info"
      ]
    },
    {
      "cell_type": "code",
      "execution_count": 3,
      "metadata": {
        "colab": {
          "base_uri": "https://localhost:8080/"
        },
        "id": "6bWjb_kenaq1",
        "outputId": "4d851090-1812-49dc-b60d-53486338155c"
      },
      "outputs": [
        {
          "output_type": "stream",
          "name": "stdout",
          "text": [
            "Month                  12\n",
            "DayofMonth             31\n",
            "DayOfWeek               7\n",
            "DepTime              1300\n",
            "UniqueCarrier          22\n",
            "Origin                289\n",
            "Dest                  289\n",
            "Distance             1310\n",
            "dep_delayed_15min       2\n",
            "dtype: int64\n"
          ]
        }
      ],
      "source": [
        "unique_counts = df.nunique()\n",
        "print(unique_counts)"
      ]
    },
    {
      "cell_type": "code",
      "execution_count": 4,
      "metadata": {
        "colab": {
          "base_uri": "https://localhost:8080/"
        },
        "id": "C1sYA2o0naq3",
        "outputId": "73f9dd87-948d-45e3-8129-6020bbaea457"
      },
      "outputs": [
        {
          "output_type": "stream",
          "name": "stdout",
          "text": [
            "Origin\n",
            "ATL    5834\n",
            "ORD    4870\n",
            "DFW    4270\n",
            "LAX    3259\n",
            "IAH    3048\n",
            "       ... \n",
            "VIS       1\n",
            "WYS       1\n",
            "ILG       1\n",
            "VCT       1\n",
            "ADK       1\n",
            "Name: count, Length: 289, dtype: int64\n",
            "Dest\n",
            "ATL    5795\n",
            "ORD    4933\n",
            "DFW    4337\n",
            "LAX    3205\n",
            "IAH    3056\n",
            "       ... \n",
            "LWB       1\n",
            "TEX       1\n",
            "ACK       1\n",
            "TTN       1\n",
            "VCT       1\n",
            "Name: count, Length: 289, dtype: int64\n"
          ]
        }
      ],
      "source": [
        "value_counts_origin = df['Origin'].value_counts()\n",
        "print(value_counts_origin)\n",
        "value_counts_dest = df['Dest'].value_counts()\n",
        "print(value_counts_dest)"
      ]
    },
    {
      "cell_type": "code",
      "execution_count": 5,
      "metadata": {
        "colab": {
          "base_uri": "https://localhost:8080/"
        },
        "id": "TecnmLpEnaq5",
        "outputId": "bd6ba51f-db39-49b7-cd29-60b2f2ae1dba"
      },
      "outputs": [
        {
          "output_type": "stream",
          "name": "stdout",
          "text": [
            "Origin\n",
            "ATL    1506\n",
            "ORD    1254\n",
            "DFW     902\n",
            "DEN     575\n",
            "LAX     552\n",
            "       ... \n",
            "ISO       1\n",
            "GST       1\n",
            "CDV       1\n",
            "ADK       1\n",
            "HLN       1\n",
            "Name: count, Length: 269, dtype: int64\n",
            "Dest\n",
            "ATL    1281\n",
            "ORD    1072\n",
            "DFW     656\n",
            "EWR     584\n",
            "LAX     525\n",
            "       ... \n",
            "CIC       1\n",
            "BGM       1\n",
            "HTS       1\n",
            "FLO       1\n",
            "BRW       1\n",
            "Name: count, Length: 276, dtype: int64\n"
          ]
        }
      ],
      "source": [
        "df2 = df[df['dep_delayed_15min'] == 'Y']\n",
        "value_counts_origin_yes = df2['Origin'].value_counts()\n",
        "print(value_counts_origin_yes)\n",
        "value_counts_dest_yes = df2['Dest'].value_counts()\n",
        "print(value_counts_dest_yes)"
      ]
    },
    {
      "cell_type": "code",
      "execution_count": 6,
      "metadata": {
        "colab": {
          "base_uri": "https://localhost:8080/"
        },
        "id": "Psc6LFE4naq6",
        "outputId": "662009c5-a783-47f3-cbb1-a7afe22f8550"
      },
      "outputs": [
        {
          "output_type": "stream",
          "name": "stdout",
          "text": [
            "Origin\n",
            "GTF    0.022222\n",
            "ITO    0.029412\n",
            "HLN    0.032258\n",
            "LIH    0.032680\n",
            "BRO    0.035714\n",
            "         ...   \n",
            "TXK         NaN\n",
            "VCT         NaN\n",
            "VIS         NaN\n",
            "WRG         NaN\n",
            "WYS         NaN\n",
            "Name: count, Length: 289, dtype: float64\n",
            "Dest\n",
            "SMX    0.031250\n",
            "ITO    0.039474\n",
            "FCA    0.044444\n",
            "BQK    0.047619\n",
            "GGG    0.055556\n",
            "         ...   \n",
            "SOP         NaN\n",
            "SPS         NaN\n",
            "TEX         NaN\n",
            "TUP         NaN\n",
            "VCT         NaN\n",
            "Name: count, Length: 289, dtype: float64\n"
          ]
        }
      ],
      "source": [
        "prob_delay_origin = value_counts_origin_yes/value_counts_origin\n",
        "prob_delay_origin = prob_delay_origin.sort_values(ascending=True)\n",
        "print(prob_delay_origin)\n",
        "prob_delay_dest = value_counts_dest_yes/value_counts_dest\n",
        "prob_delay_dest = prob_delay_dest.sort_values(ascending=True)\n",
        "print(prob_delay_dest)\n"
      ]
    },
    {
      "cell_type": "markdown",
      "metadata": {
        "id": "uLQqN0vunaq6"
      },
      "source": [
        "Now adding new features created."
      ]
    },
    {
      "cell_type": "code",
      "execution_count": 7,
      "metadata": {
        "id": "fTu0L5IMnaq8"
      },
      "outputs": [],
      "source": [
        "def get_season(month):\n",
        "    if month in [12, 1, 11]: return 'Winter'\n",
        "    elif month in [2, 3, 4]: return 'Spring'\n",
        "    elif month in [5, 7, 6, 8]: return 'Summer'\n",
        "    else: return 'Fall'\n",
        "\n",
        "\n",
        "# to add season feature"
      ]
    },
    {
      "cell_type": "code",
      "execution_count": 8,
      "metadata": {
        "colab": {
          "base_uri": "https://localhost:8080/",
          "height": 907
        },
        "id": "8695Lzaynaq9",
        "outputId": "74261603-a5b5-4da7-a931-88a5880806ab"
      },
      "outputs": [
        {
          "output_type": "display_data",
          "data": {
            "text/plain": [
              "<Figure size 1500x600 with 1 Axes>"
            ],
            "image/png": "[encoded data removed]"
          },
          "metadata": {}
        },
        {
          "output_type": "stream",
          "name": "stdout",
          "text": [
            "   Month  DayofMonth  DayOfWeek  DepTime UniqueCarrier Origin Dest  Distance  \\\n",
            "0      8          21          7       30            AA    ATL  DFW       732   \n",
            "1      4          20          3       22            US    PIT  MCO       834   \n",
            "2      9           2          5       19            XE    RDU  CLE       416   \n",
            "3     11          25          6       11            OO    DEN  MEM       872   \n",
            "4     10           7          6       28            WN    MDW  OMA       423   \n",
            "\n",
            "   dep_delayed_15min  Origin_counts  Origin_prob  Dest_counts  Dest_prob  \\\n",
            "0                  0           5834     0.258142         4337   0.151257   \n",
            "1                  0            688     0.171512         1728   0.184028   \n",
            "2                  0            868     0.184332         1218   0.175698   \n",
            "3                  0           2973     0.193407          629   0.149444   \n",
            "4                  1           1366     0.251098          311   0.260450   \n",
            "\n",
            "   Is_Weekend  Season   Day_sin  Date_sin  Month_sin      Time  Origin_delays  \\\n",
            "0           1  Summer  0.587785 -0.809017  -0.978148  0.939094         1506.0   \n",
            "1           0  Spring -0.880596 -0.500000   0.669131  0.790155          118.0   \n",
            "2           0    Fall  0.657939  0.669131  -0.951057  0.549023          160.0   \n",
            "3           1  Winter  0.998993 -0.500000  -0.207912 -0.465615          575.0   \n",
            "4           1    Fall  0.998993 -0.978148  -0.669131  0.997314          343.0   \n",
            "\n",
            "   Dest_delays  \n",
            "0        656.0  \n",
            "1        318.0  \n",
            "2        214.0  \n",
            "3         94.0  \n",
            "4         81.0  \n"
          ]
        }
      ],
      "source": [
        "df['Origin_counts'] = df['Origin'].map(value_counts_origin)\n",
        "df['Origin_prob'] = df['Origin'].map(prob_delay_origin)\n",
        "df['Dest_counts'] = df['Dest'].map(value_counts_dest)\n",
        "df['Dest_prob'] = df['Dest'].map(prob_delay_dest)\n",
        "df['DayOfWeek'] = df['DayOfWeek'].astype(str).str.replace('c-', '').astype(int) #encoding month\n",
        "df['Is_Weekend'] = df['DayOfWeek'].isin([6,7]).astype(int) # weekend feature\n",
        "df['Month'] = df['Month'].astype(str).str.replace('c-', '').astype(int) #encoding month\n",
        "df['DayofMonth'] = df['DayofMonth'].astype(str).str.replace('c-', '').astype(int)\n",
        "df['Season'] = df['Month'].apply(get_season)\n",
        "label_encoder = LabelEncoder()\n",
        "df['dep_delayed_15min'] = label_encoder.fit_transform(df['dep_delayed_15min'])#how have the values of k1,k2,k3,k4 been chosen?\n",
        "k1 = 0.8\n",
        "df['Day_sin'] = np.sin(2*np.pi*df['DayOfWeek']/7 + k1*np.pi)#what are these sin functions?\n",
        "k2 = 0.5\n",
        "df['Date_sin'] = np.sin(2 * np.pi * df['DayofMonth'] / 15 + k2*np.pi)\n",
        "k3 = 0.1\n",
        "df['Month_sin'] = np.sin(2 * np.pi * df['Month'] / 12 + k3*np.pi)\n",
        "k4 = 1\n",
        "df['Time'] = np.sin(2 * np.pi * df['DepTime'] / 2400 + k4*np.pi)\n",
        "df['Origin_delays'] = df['Origin_counts'] * df['Origin_prob']#what is the use of origin counts, delay counts once calculated origin and dest delays?\n",
        "df['Dest_delays'] = df['Dest_counts'] * df['Dest_prob']\n",
        "df.fillna(0,inplace=True)\n",
        "\n",
        "\n",
        "\n",
        "df['dep_delayed_15min'] = df['dep_delayed_15min'].astype(int)\n",
        "\n",
        "# Create a 'Date' feature representing each unique day of the year (1-365)\n",
        "df['DepTime'] = df['DepTime']//48  # Approximation assuming 30 days per month\n",
        "df['DepTime'] = (df['DepTime'] + 38)%48\n",
        "\n",
        "# Group by 'Date' and calculate the percentage of delayed flights\n",
        "delay_percentage = df.groupby('DepTime')['dep_delayed_15min'].mean()*100\n",
        "\n",
        "# Plot the histogram\n",
        "plt.figure(figsize=(15, 6))\n",
        "plt.bar(delay_percentage.index, delay_percentage, color='blue', alpha=0.7, edgecolor='black')\n",
        "plt.title('% of Flights Delayed for Each Day of the Year', fontsize=14)\n",
        "plt.xlabel('Day of the Year (1-365)', fontsize=12)\n",
        "plt.ylabel('% Delayed', fontsize=12)\n",
        "plt.xticks(ticks=range(0, 48, 30), labels=[f'Day {i}' for i in range(0, 48, 30)])\n",
        "plt.grid(axis='y', linestyle='--', alpha=0.6)\n",
        "plt.tight_layout()\n",
        "plt.show()\n",
        "\n",
        "print(df.head())"
      ]
    },
    {
      "cell_type": "code",
      "execution_count": 9,
      "metadata": {
        "colab": {
          "base_uri": "https://localhost:8080/",
          "height": 1000
        },
        "id": "obBMcLw2naq_",
        "outputId": "f0751a0f-8439-45c4-ac5e-10112f8c51db"
      },
      "outputs": [
        {
          "output_type": "stream",
          "name": "stdout",
          "text": [
            "Class distribution before SMOTE: dep_delayed_15min\n",
            "0    64734\n",
            "1    15266\n",
            "Name: count, dtype: int64\n",
            "Class distribution after SMOTE: dep_delayed_15min\n",
            "0    64734\n",
            "1    64734\n",
            "Name: count, dtype: int64\n",
            "f1-score of Random Forest model: 0.3304\n",
            "roc_auc-score of Random Forest model: 0.7455\n",
            "Feature: Month, Importance: 0.0374\n",
            "Feature: DayofMonth, Importance: 0.0572\n",
            "Feature: DayOfWeek, Importance: 0.0328\n",
            "Feature: DepTime, Importance: 0.2012\n",
            "Feature: Distance, Importance: 0.0695\n",
            "Feature: Origin_prob, Importance: 0.0770\n",
            "Feature: Dest_prob, Importance: 0.0767\n",
            "Feature: Is_Weekend, Importance: 0.0048\n",
            "Feature: Day_sin, Importance: 0.0508\n",
            "Feature: Date_sin, Importance: 0.0476\n",
            "Feature: Month_sin, Importance: 0.0427\n",
            "Feature: Time, Importance: 0.1507\n",
            "Feature: Origin_delays, Importance: 0.0701\n",
            "Feature: Dest_delays, Importance: 0.0649\n",
            "Feature: Season_Spring, Importance: 0.0044\n",
            "Feature: Season_Summer, Importance: 0.0065\n",
            "Feature: Season_Winter, Importance: 0.0057\n"
          ]
        },
        {
          "output_type": "display_data",
          "data": {
            "text/plain": [
              "<Figure size 600x500 with 1 Axes>"
            ],
            "image/png": "[encoded data removed]"
          },
          "metadata": {}
        }
      ],
      "source": [
        "data = df.copy()\n",
        "data.drop(columns=['Origin', 'Dest','UniqueCarrier','Origin_counts','Dest_counts'],inplace=True)#delete dest, origin counts as well\n",
        "data = pd.get_dummies(data, columns=['Season'], drop_first=True)\n",
        "X = data.drop('dep_delayed_15min', axis=1)  # Features\n",
        "y = data['dep_delayed_15min']  # Target\n",
        "smote = SMOTE(random_state=42)\n",
        "X_train, X_test, y_train, y_test = train_test_split(X, y, test_size=0.2, random_state=42)\n",
        "scaler = StandardScaler()\n",
        "X_train = scaler.fit_transform(X_train)\n",
        "X_test = scaler.transform(X_test)\n",
        "x_train_resampled, y_train_resampled = smote.fit_resample(X_train, y_train)\n",
        "print(\"Class distribution before SMOTE:\", y_train.value_counts())\n",
        "print(\"Class distribution after SMOTE:\", pd.Series(y_train_resampled).value_counts())\n",
        "rf = RandomForestClassifier(n_estimators=100,random_state=42)\n",
        "rf.fit(x_train_resampled, y_train_resampled)\n",
        "y_pred_prob = rf.predict_proba(X_test)[:,1]\n",
        "y_pred = np.where(y_pred_prob >0.5,1,0)\n",
        "roc_auc = roc_auc_score(y_test, y_pred_prob)\n",
        "f1 = f1_score(y_test,y_pred)\n",
        "print(f\"f1-score of Random Forest model: {f1:.4f}\")\n",
        "print(f\"roc_auc-score of Random Forest model: {roc_auc:.4f}\")\n",
        "feature_importances = rf.feature_importances_\n",
        "\n",
        "for feature, importance in zip(X.columns, feature_importances):\n",
        "    print(f\"Feature: {feature}, Importance: {importance:.4f}\")\n",
        "\n",
        "\n",
        "cm = confusion_matrix(y_test, y_pred)\n",
        "\n",
        "# 2. Plot the confusion matrix\n",
        "plt.figure(figsize=(6, 5))\n",
        "sns.heatmap(cm, annot=True, fmt=\"d\", cmap=\"Blues\", cbar=False,\n",
        "            xticklabels=[\"No Delay\", \"Delay\"], yticklabels=[\"No Delay\", \"Delay\"])\n",
        "plt.xlabel('Predicted')\n",
        "plt.ylabel('True')\n",
        "plt.title('Confusion Matrix')\n",
        "plt.show()\n"
      ]
    },
    {
      "cell_type": "code",
      "source": [
        "# As Random forset was our Best model we used to for the final prediction of the test.csv. A submission will be generated r\n",
        "# representing our Output.\n",
        "\n",
        "\n",
        "def preprocess(df):\n",
        "    df['Origin_counts'] = df['Origin'].map(value_counts_origin)\n",
        "    df['Origin_prob'] = df['Origin'].map(prob_delay_origin)\n",
        "    df['Dest_counts'] = df['Dest'].map(value_counts_dest)\n",
        "    df['Dest_prob'] = df['Dest'].map(prob_delay_dest)\n",
        "    df['DayOfWeek'] = df['DayOfWeek'].astype(str).str.replace('c-', '').astype(int) #encoding month\n",
        "    df['Is_Weekend'] = df['DayOfWeek'].isin([6,7]).astype(int) # weekend feature\n",
        "    df['Month'] = df['Month'].astype(str).str.replace('c-', '').astype(int) #encoding month\n",
        "    df['DayofMonth'] = df['DayofMonth'].astype(str).str.replace('c-', '').astype(int)\n",
        "    k1 = 0.8\n",
        "    df['Day_sin'] = np.sin(2*np.pi*df['DayOfWeek']/7 + k1*np.pi)\n",
        "    k2 = 0.5\n",
        "    df['Date_sin'] = np.sin(2 * np.pi * df['DayofMonth'] / 15 + k2*np.pi)\n",
        "    k3 = 0.1\n",
        "    df['Month_sin'] = np.sin(2 * np.pi * df['Month'] / 12 + k3*np.pi)\n",
        "    k4 = 1\n",
        "    df['Time'] = np.sin(2 * np.pi * df['DepTime'] / 2400 + k4*np.pi)\n",
        "    df['Origin_delays'] = df['Origin_counts'] * df['Origin_prob']\n",
        "    df['Dest_delays'] = df['Dest_counts'] * df['Dest_prob']\n",
        "    df.fillna(0,inplace=True)\n",
        "    df['Season'] = df['Month'].apply(get_season)\n",
        "    # Create a 'Date' feature representing each unique day of the year (1-365)\n",
        "    df['DepTime'] = df['DepTime']//48  # Approximation assuming 30 days per month\n",
        "    df['DepTime'] = (df['DepTime'] + 38)%48\n",
        "    return df\n",
        "\n",
        "\n",
        "test_data = pd.read_csv(\"flight_delays_test.csv\")\n",
        "preprocess(test_data)\n",
        "test_data.drop(columns=['Origin', 'Dest','UniqueCarrier','Origin_counts','Dest_counts'],inplace=True)\n",
        "print(test_data.head())\n",
        "test_data = pd.get_dummies(test_data, columns=['Season'], drop_first=True)\n",
        "test_data = scaler.transform(test_data)\n",
        "submission = rf.predict_proba(test_data)[:,1]\n",
        "print(submission)\n",
        "submission_df = pd.DataFrame(submission,columns=[\"delay_probablity\"])\n",
        "submission_df.to_csv(\"submission.csv\",index = False)"
      ],
      "metadata": {
        "colab": {
          "base_uri": "https://localhost:8080/"
        },
        "id": "V-6m3bZPb4_m",
        "outputId": "c8bff18d-4ded-478f-bef8-68e12ec8b738"
      },
      "execution_count": 11,
      "outputs": [
        {
          "output_type": "stream",
          "name": "stdout",
          "text": [
            "   Month  DayofMonth  DayOfWeek  DepTime  Distance  Origin_prob  Dest_prob  \\\n",
            "0      7          25          3        2       598     0.205882   0.168789   \n",
            "1      4          17          2        5      1235     0.217270   0.209272   \n",
            "2     12           2          7        3       577     0.195531   0.217312   \n",
            "3      3          25          7       23       377     0.188377   0.231544   \n",
            "4      6           6          3       21       258     0.257495   0.200676   \n",
            "\n",
            "   Is_Weekend   Day_sin  Date_sin  Month_sin      Time  Origin_delays  \\\n",
            "0           0 -0.880596 -0.500000  -0.743145 -0.999229           21.0   \n",
            "1           0 -0.919528  0.669131   0.669131 -0.934515          546.0   \n",
            "2           1  0.587785  0.669131   0.309017 -0.991100           35.0   \n",
            "3           1  0.587785 -0.500000   0.951057  0.883766          282.0   \n",
            "4           0 -0.880596 -0.809017  -0.309017  0.716302         1254.0   \n",
            "\n",
            "   Dest_delays  Season  \n",
            "0        464.0  Summer  \n",
            "1        158.0  Spring  \n",
            "2       1072.0  Winter  \n",
            "3         69.0  Spring  \n",
            "4        178.0  Summer  \n",
            "[0.03 0.11 0.02 ... 0.16 0.1  0.21]\n"
          ]
        }
      ]
    },
    {
      "cell_type": "code",
      "execution_count": null,
      "metadata": {
        "colab": {
          "base_uri": "https://localhost:8080/",
          "height": 639
        },
        "id": "8V0jkkqKnarA",
        "outputId": "29df66ff-6442-4cbc-9f96-507742272a9b"
      },
      "outputs": [
        {
          "output_type": "stream",
          "name": "stdout",
          "text": [
            "[False False False ... False False False]\n"
          ]
        },
        {
          "output_type": "display_data",
          "data": {
            "text/plain": [
              "<Figure size 1000x600 with 1 Axes>"
            ],
            "image/png": "[encoded data removed]"
          },
          "metadata": {}
        }
      ],
      "source": [
        "high_prob_indices = y_pred_prob > 0.5\n",
        "print(high_prob_indices)\n",
        "high_prob_times = X_test[high_prob_indices,3]  # Assuming 'DepTime' is in X_test\n",
        "\n",
        "# Plot histogram\n",
        "plt.figure(figsize=(10, 6))\n",
        "plt.hist(high_prob_times, bins=24, color='skyblue', edgecolor='black', alpha=0.7)\n",
        "plt.title('Histogram of Departure Times for Flights Predicted Delayed (P > 0.8)', fontsize=14)\n",
        "plt.xlabel('Departure Time (HHMM)', fontsize=12)\n",
        "plt.ylabel('Count', fontsize=12)\n",
        "plt.xticks(rotation=45)\n",
        "plt.grid(axis='y', linestyle='--', alpha=0.7)\n",
        "plt.show()"
      ]
    },
    {
      "cell_type": "code",
      "execution_count": null,
      "metadata": {
        "id": "VUcSj91dnarB"
      },
      "outputs": [],
      "source": [
        "train_pred = rf.predict_proba(x_train_resampled)[:,1]\n",
        "train_roc_auc = roc_auc_score(y_train_resampled,train_pred)\n",
        "print(train_roc_auc)"
      ]
    },
    {
      "cell_type": "code",
      "execution_count": null,
      "metadata": {
        "colab": {
          "base_uri": "https://localhost:8080/",
          "height": 863
        },
        "id": "rk4Ci2HgnarC",
        "outputId": "c27bb1be-7b4d-4470-bca0-aa7ed75db385"
      },
      "outputs": [
        {
          "output_type": "stream",
          "name": "stdout",
          "text": [
            "f1-score of Random Forest model: 0.3605\n",
            "roc_auc-score of Random Forest model: 0.6069\n",
            "Feature: Month, Importance: 0.0374\n",
            "Feature: DayofMonth, Importance: 0.0572\n",
            "Feature: DayOfWeek, Importance: 0.0328\n",
            "Feature: DepTime, Importance: 0.2012\n",
            "Feature: Distance, Importance: 0.0695\n",
            "Feature: Origin_prob, Importance: 0.0770\n",
            "Feature: Dest_prob, Importance: 0.0767\n",
            "Feature: Is_Weekend, Importance: 0.0048\n",
            "Feature: Day_sin, Importance: 0.0508\n",
            "Feature: Date_sin, Importance: 0.0476\n",
            "Feature: Month_sin, Importance: 0.0427\n",
            "Feature: Time, Importance: 0.1507\n",
            "Feature: Origin_delays, Importance: 0.0701\n",
            "Feature: Dest_delays, Importance: 0.0649\n",
            "Feature: Season_Spring, Importance: 0.0044\n",
            "Feature: Season_Summer, Importance: 0.0065\n",
            "Feature: Season_Winter, Importance: 0.0057\n"
          ]
        },
        {
          "output_type": "display_data",
          "data": {
            "text/plain": [
              "<Figure size 600x500 with 1 Axes>"
            ],
            "image/png": "[encoded data removed]"
          },
          "metadata": {}
        }
      ],
      "source": [
        "adaboost = AdaBoostClassifier(n_estimators=400, learning_rate=1.0, random_state=42)\n",
        "adaboost.fit(x_train_resampled, y_train_resampled)\n",
        "y_pred = adaboost.predict(X_test)\n",
        "y_prob = adaboost.predict_proba(X_test)[:, 1]\n",
        "roc_auc = roc_auc_score(y_test, y_pred)\n",
        "f1 = f1_score(y_test,y_pred)\n",
        "print(f\"f1-score of Random Forest model: {f1:.4f}\")\n",
        "print(f\"roc_auc-score of Random Forest model: {roc_auc:.4f}\")\n",
        "feature_importances = rf.feature_importances_\n",
        "\n",
        "for feature, importance in zip(X.columns, feature_importances):\n",
        "    print(f\"Feature: {feature}, Importance: {importance:.4f}\")\n",
        "\n",
        "\n",
        "cm = confusion_matrix(y_test, y_pred)\n",
        "\n",
        "# 2. Plot the confusion matrix\n",
        "plt.figure(figsize=(6, 5))\n",
        "sns.heatmap(cm, annot=True, fmt=\"d\", cmap=\"Blues\", cbar=False,\n",
        "            xticklabels=[\"No Delay\", \"Delay\"], yticklabels=[\"No Delay\", \"Delay\"])\n",
        "plt.xlabel('Predicted')\n",
        "plt.ylabel('True')\n",
        "plt.title('Confusion Matrix')\n",
        "plt.show()\n"
      ]
    },
    {
      "cell_type": "code",
      "execution_count": null,
      "metadata": {
        "id": "IDqepstovWHA"
      },
      "outputs": [],
      "source": [
        "#SVC\n",
        "from sklearn.model_selection import KFold\n",
        "from sklearn.svm import SVC\n",
        "data = df.copy()\n",
        "data.drop(columns=['UniqueCarrier', 'Origin', 'Dest','Origin_counts','Dest_counts'],inplace=True)\n",
        "data = pd.get_dummies(data, columns=['Season'], drop_first=True)\n",
        "X = data.drop('dep_delayed_15min', axis=1)  # Features\n",
        "y = data['dep_delayed_15min']  # Target\n",
        "smote = SMOTE(random_state=42)\n",
        "scaler = StandardScaler()\n",
        "kf=KFold(n_splits=5)\n",
        "lr=SVC(kernel='rbf',C=10)\n",
        "score_lr=[]\n",
        "f1_score_array=[]\n",
        "roc_auc_scores=[]\n",
        "\n",
        "for train_indices,test_indices in kf.split(X['Month']):\n",
        "    X_train=X.iloc[train_indices]\n",
        "    y_train=y.iloc[train_indices]\n",
        "    X_test=X.iloc[test_indices]\n",
        "    y_test=y.iloc[test_indices]\n",
        "    X_train = scaler.fit_transform(X_train)\n",
        "    X_test = scaler.transform(X_test)\n",
        "    x_train_resampled, y_train_resampled = smote.fit_resample(X_train, y_train)\n",
        "    lr.fit(x_train_resampled,y_train_resampled)\n",
        "    y_pred = lr.predict(X_test)\n",
        "    y_prob = lr.predict_proba(X_test)[:, 1]\n",
        "    roc_auc = roc_auc_score(y_test, y_pred)\n",
        "    f1 = f1_score(y_test,y_pred)\n",
        "    f1_score_array.append(f1)\n",
        "    roc_auc_scores.append(roc_auc)\n",
        "print(\"Average f1: \",sum(f1_score_array)/len(f1_score_array))\n",
        "print(\"Min f1: \",min(f1_score_array))\n",
        "print(\"Max f1: \",max(f1_score_array))\n",
        "print(\"Average roc_auc: \",sum(roc_auc_scores)/len(roc_auc_scores))\n",
        "print(\"Min roc_auc: \",min(roc_auc_scores))\n",
        "print(\"Max roc_auc: \",max(roc_auc_scores))"
      ]
    },
    {
      "cell_type": "code",
      "source": [
        "from sklearn.model_selection import KFold\n",
        "from sklearn.svm import SVC\n",
        "from sklearn.preprocessing import StandardScaler\n",
        "from imblearn.over_sampling import SMOTE\n",
        "from sklearn.metrics import f1_score, roc_auc_score\n",
        "import numpy as np\n",
        "from joblib import Parallel, delayed\n",
        "import pandas as pd\n",
        "\n",
        "def process_fold(train_indices, test_indices, X, y, scaler, smote, svc):\n",
        "    \"\"\"Process a single fold of the cross-validation\"\"\"\n",
        "    X_train = X.iloc[train_indices]\n",
        "    y_train = y.iloc[train_indices]\n",
        "    X_test = X.iloc[test_indices]\n",
        "    y_test = y.iloc[test_indices]\n",
        "\n",
        "    # Scale the data\n",
        "    X_train_scaled = scaler.fit_transform(X_train)\n",
        "    X_test_scaled = scaler.transform(X_test)\n",
        "\n",
        "    # Apply SMOTE\n",
        "    x_train_resampled, y_train_resampled = smote.fit_resample(X_train_scaled, y_train)\n",
        "\n",
        "    # Train and predict\n",
        "    svc.fit(x_train_resampled, y_train_resampled)\n",
        "    y_pred = svc.predict(X_test_scaled)\n",
        "    y_prob = svc.decision_function(X_test_scaled)  # Faster than predict_proba\n",
        "\n",
        "    # Calculate metrics\n",
        "    roc_auc = roc_auc_score(y_test, y_prob)\n",
        "    f1 = f1_score(y_test, y_pred)\n",
        "\n",
        "    return f1, roc_auc\n",
        "\n",
        "def evaluate_model(df, n_jobs=-1):\n",
        "    \"\"\"Evaluate the SVC model with parallel processing\"\"\"\n",
        "    # Data preprocessing\n",
        "    print(len(df))\n",
        "    data = df.copy()[:30000]\n",
        "    data.drop(columns=['UniqueCarrier', 'Origin', 'Dest', 'Origin_counts', 'Dest_counts'], inplace=True)\n",
        "    data = pd.get_dummies(data, columns=['Season'], drop_first=True)\n",
        "\n",
        "    # Split features and target\n",
        "    X = data.drop('dep_delayed_15min', axis=1)\n",
        "    y = data['dep_delayed_15min']\n",
        "\n",
        "    # Initialize components\n",
        "    kf = KFold(n_splits=2, shuffle=True, random_state=42)\n",
        "    smote = SMOTE(random_state=42)\n",
        "    scaler = StandardScaler()\n",
        "    svc = SVC(\n",
        "        kernel='rbf',\n",
        "        C=10,\n",
        "        cache_size=2000,  # Increase cache size for faster computation\n",
        "        probability=False  # Disable probability estimates for speed\n",
        "    )\n",
        "\n",
        "    # Parallel processing of folds\n",
        "    results = Parallel(n_jobs=n_jobs)(\n",
        "        delayed(process_fold)(\n",
        "            train_idx, test_idx, X, y,\n",
        "            StandardScaler(), SMOTE(random_state=42),\n",
        "            SVC(kernel='rbf', C=10, cache_size=2000, probability=False)\n",
        "        )\n",
        "        for train_idx, test_idx in kf.split(X)\n",
        "    )\n",
        "\n",
        "    # Unpack results\n",
        "    f1_scores, roc_auc_scores = zip(*results)\n",
        "\n",
        "    # Calculate and return metrics\n",
        "    metrics = {\n",
        "        'avg_f1': np.mean(f1_scores),\n",
        "        'min_f1': np.min(f1_scores),\n",
        "        'max_f1': np.max(f1_scores),\n",
        "        'avg_roc_auc': np.mean(roc_auc_scores),\n",
        "        'min_roc_auc': np.min(roc_auc_scores),\n",
        "        'max_roc_auc': np.max(roc_auc_scores)\n",
        "    }\n",
        "\n",
        "    return metrics\n",
        "\n",
        "# Usage example:\n",
        "metrics = evaluate_model(df)\n",
        "for metric_name, value in metrics.items():\n",
        "     print(f\"{metric_name}: {value}\")"
      ],
      "metadata": {
        "colab": {
          "base_uri": "https://localhost:8080/"
        },
        "id": "NSu6R3mTGqMg",
        "outputId": "ce7e3cf5-2e11-4db5-b423-8aa8cb2d77c8"
      },
      "execution_count": null,
      "outputs": [
        {
          "output_type": "stream",
          "name": "stdout",
          "text": [
            "100000\n",
            "avg_f1: 0.38933399636937793\n",
            "min_f1: 0.38633102908569195\n",
            "max_f1: 0.3923369636530639\n",
            "avg_roc_auc: 0.6766348110695308\n",
            "min_roc_auc: 0.674601006777608\n",
            "max_roc_auc: 0.6786686153614536\n"
          ]
        }
      ]
    },
    {
      "cell_type": "code",
      "execution_count": null,
      "metadata": {
        "id": "4mXoaayT1vab",
        "colab": {
          "base_uri": "https://localhost:8080/"
        },
        "outputId": "1e5e89bf-da69-4442-de46-4c6c49c2d50e"
      },
      "outputs": [
        {
          "output_type": "stream",
          "name": "stdout",
          "text": [
            "Average f1:  0.37751887002958817\n",
            "Min f1:  0.3725221906465986\n",
            "Max f1:  0.38251554941257776\n",
            "Average roc_auc:  0.6144962678489643\n",
            "Min roc_auc:  0.6112142784877723\n",
            "Max roc_auc:  0.6177782572101562\n"
          ]
        }
      ],
      "source": [
        "#KNN\n",
        "from sklearn.neighbors import KNeighborsClassifier\n",
        "data = df.copy()\n",
        "data.drop(columns=['UniqueCarrier', 'Origin', 'Dest','Origin_counts','Dest_counts'],inplace=True)\n",
        "data = pd.get_dummies(data, columns=['Season'], drop_first=True)\n",
        "X = data.drop('dep_delayed_15min', axis=1)  # Features\n",
        "y = data['dep_delayed_15min']  # Target\n",
        "smote = SMOTE(random_state=42)\n",
        "scaler = StandardScaler()\n",
        "kf=KFold(n_splits=2)\n",
        "lr=KNeighborsClassifier(n_neighbors=10)\n",
        "score_lr=[]\n",
        "f1_score_array=[]\n",
        "roc_auc_scores=[]\n",
        "for train_indices,test_indices in kf.split(X['Month']):\n",
        "    X_train=X.iloc[train_indices]\n",
        "    y_train=y.iloc[train_indices]\n",
        "    X_test=X.iloc[test_indices]\n",
        "    y_test=y.iloc[test_indices]\n",
        "    X_train = scaler.fit_transform(X_train)\n",
        "    X_test = scaler.transform(X_test)\n",
        "    x_train_resampled, y_train_resampled = smote.fit_resample(X_train, y_train)\n",
        "    lr.fit(x_train_resampled,y_train_resampled)\n",
        "    y_pred = lr.predict(X_test)\n",
        "    y_prob = lr.predict_proba(X_test)[:, 1]\n",
        "    roc_auc = roc_auc_score(y_test, y_pred)\n",
        "    f1 = f1_score(y_test,y_pred)\n",
        "    f1_score_array.append(f1)\n",
        "    roc_auc_scores.append(roc_auc)\n",
        "print(\"Average f1: \",sum(f1_score_array)/len(f1_score_array))\n",
        "print(\"Min f1: \",min(f1_score_array))\n",
        "print(\"Max f1: \",max(f1_score_array))\n",
        "print(\"Average roc_auc: \",sum(roc_auc_scores)/len(roc_auc_scores))\n",
        "print(\"Min roc_auc: \",min(roc_auc_scores))\n",
        "print(\"Max roc_auc: \",max(roc_auc_scores))"
      ]
    },
    {
      "cell_type": "code",
      "execution_count": null,
      "metadata": {
        "id": "0xrAFDum8Jh4",
        "colab": {
          "base_uri": "https://localhost:8080/"
        },
        "outputId": "cb376aa7-139a-46fe-f11f-77fc5bcdaca1"
      },
      "outputs": [
        {
          "output_type": "stream",
          "name": "stdout",
          "text": [
            "Average f1:  0.4152109918450009\n",
            "Min f1:  0.40446690577111183\n",
            "Max f1:  0.42488716956802064\n",
            "Average roc_auc:  0.6520003276296522\n",
            "Min roc_auc:  0.6460848620426989\n",
            "Max roc_auc:  0.6588554829406392\n"
          ]
        }
      ],
      "source": [
        "#Logistic Regression\n",
        "from sklearn.linear_model import LogisticRegression\n",
        "from sklearn.model_selection import KFold\n",
        "data = df.copy()\n",
        "data.drop(columns=['UniqueCarrier', 'Origin', 'Dest','Origin_counts','Dest_counts'],inplace=True)\n",
        "data = pd.get_dummies(data, columns=['Season'], drop_first=True)\n",
        "X = data.drop('dep_delayed_15min', axis=1)  # Features\n",
        "y = data['dep_delayed_15min']  # Target\n",
        "smote = SMOTE(random_state=42)\n",
        "scaler = StandardScaler()\n",
        "kf=KFold(n_splits=5)\n",
        "lr=LogisticRegression()\n",
        "score_lr=[]\n",
        "f1_score_array=[]\n",
        "roc_auc_scores=[]\n",
        "for train_indices,test_indices in kf.split(X['Month']):\n",
        "    X_train=X.iloc[train_indices]\n",
        "    y_train=y.iloc[train_indices]\n",
        "    X_test=X.iloc[test_indices]\n",
        "    y_test=y.iloc[test_indices]\n",
        "    X_train = scaler.fit_transform(X_train)\n",
        "    X_test = scaler.transform(X_test)\n",
        "    x_train_resampled, y_train_resampled = smote.fit_resample(X_train, y_train)\n",
        "    lr.fit(x_train_resampled,y_train_resampled)\n",
        "    y_pred = lr.predict(X_test)\n",
        "    y_prob = lr.predict_proba(X_test)[:, 1]\n",
        "    roc_auc = roc_auc_score(y_test, y_pred)\n",
        "    f1 = f1_score(y_test,y_pred)\n",
        "    f1_score_array.append(f1)\n",
        "    roc_auc_scores.append(roc_auc)\n",
        "print(\"Average f1: \",sum(f1_score_array)/len(f1_score_array))\n",
        "print(\"Min f1: \",min(f1_score_array))\n",
        "print(\"Max f1: \",max(f1_score_array))\n",
        "print(\"Average roc_auc: \",sum(roc_auc_scores)/len(roc_auc_scores))\n",
        "print(\"Min roc_auc: \",min(roc_auc_scores))\n",
        "print(\"Max roc_auc: \",max(roc_auc_scores))"
      ]
    }
  ],
  "metadata": {
    "colab": {
      "provenance": []
    },
    "kernelspec": {
      "display_name": "Python 3",
      "language": "python",
      "name": "python3"
    },
    "language_info": {
      "codemirror_mode": {
        "name": "ipython",
        "version": 3
      },
      "file_extension": ".py",
      "mimetype": "text/x-python",
      "name": "python",
      "nbconvert_exporter": "python",
      "pygments_lexer": "ipython3",
      "version": "3.12.7"
    }
  },
  "nbformat": 4,
  "nbformat_minor": 0
}