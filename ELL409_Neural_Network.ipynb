{
  "nbformat": 4,
  "nbformat_minor": 0,
  "metadata": {
    "colab": {
      "provenance": []
    },
    "kernelspec": {
      "name": "python3",
      "display_name": "Python 3"
    },
    "language_info": {
      "name": "python"
    }
  },
  "cells": [
    {
      "cell_type": "code",
      "execution_count": 27,
      "metadata": {
        "colab": {
          "base_uri": "https://localhost:8080/"
        },
        "id": "qfHDRLxB2IyT",
        "outputId": "67e3cb11-74ed-4668-fb36-58609175dbac"
      },
      "outputs": [
        {
          "output_type": "stream",
          "name": "stdout",
          "text": [
            "<bound method NDFrame.head of       Month DayofMonth DayOfWeek  DepTime UniqueCarrier Origin Dest  Distance  \\\n",
            "0       c-8       c-21       c-7     1934            AA    ATL  DFW       732   \n",
            "1       c-4       c-20       c-3     1548            US    PIT  MCO       834   \n",
            "2       c-9        c-2       c-5     1422            XE    RDU  CLE       416   \n",
            "3      c-11       c-25       c-6     1015            OO    DEN  MEM       872   \n",
            "4      c-10        c-7       c-6     1828            WN    MDW  OMA       423   \n",
            "...     ...        ...       ...      ...           ...    ...  ...       ...   \n",
            "99995   c-5        c-4       c-3     1618            OO    SFO  RDD       199   \n",
            "99996   c-1       c-18       c-3      804            CO    EWR  DAB       884   \n",
            "99997   c-1       c-24       c-2     1901            NW    DTW  IAH      1076   \n",
            "99998   c-4       c-27       c-4     1515            MQ    DFW  GGG       140   \n",
            "99999  c-11       c-17       c-4     1800            WN    SEA  SMF       605   \n",
            "\n",
            "      dep_delayed_15min  \n",
            "0                     N  \n",
            "1                     N  \n",
            "2                     N  \n",
            "3                     N  \n",
            "4                     Y  \n",
            "...                 ...  \n",
            "99995                 N  \n",
            "99996                 N  \n",
            "99997                 N  \n",
            "99998                 N  \n",
            "99999                 N  \n",
            "\n",
            "[100000 rows x 9 columns]>\n",
            "Month                0\n",
            "DayofMonth           0\n",
            "DayOfWeek            0\n",
            "DepTime              0\n",
            "UniqueCarrier        0\n",
            "Origin               0\n",
            "Dest                 0\n",
            "Distance             0\n",
            "dep_delayed_15min    0\n",
            "dtype: int64\n"
          ]
        }
      ],
      "source": [
        "import pandas as pd\n",
        "import numpy as np\n",
        "import xgboost as xgb\n",
        "from sklearn.model_selection import train_test_split, GridSearchCV\n",
        "from sklearn.metrics import classification_report, accuracy_score, confusion_matrix, roc_auc_score, roc_curve,f1_score\n",
        "import matplotlib.pyplot as plt\n",
        "import seaborn as sns\n",
        "from sklearn.metrics import f1_score\n",
        "from imblearn.over_sampling import SMOTE\n",
        "from sklearn.preprocessing import LabelEncoder, OneHotEncoder\n",
        "from sklearn.preprocessing import StandardScaler\n",
        "from sklearn.preprocessing import LabelEncoder\n",
        "df=pd.read_csv('flight_delays_train.csv')\n",
        "\n",
        "\n",
        "\n",
        "print(df.head)\n",
        "# print(df.loc[(df['dep_delayed_15min'] == 'Y') & (df['UniqueCarrier']=='WN')])\n",
        "\n",
        "# print(df.UniqueCarrier.unique().size)\n",
        "print(df.isnull().sum())\n",
        "data=df.to_numpy()\n",
        "# num_samples = data.shape[0]\n",
        "# train_indices = np.random.choice(num_samples, size=int(0.8 * num_samples), replace=False)\n",
        "# test_indices = np.array(list(set(range(num_samples)) - set(train_indices)))\n",
        "\n",
        "# train = data[train_indices]\n",
        "# test = data[test_indices]\n",
        "# n=train.shape[0]\n",
        "# print(train[:,-1])\n"
      ]
    },
    {
      "cell_type": "code",
      "source": [
        "df['Month'] = df['Month'].str.replace('c-', '').astype(int)\n",
        "df['DayofMonth'] = df['DayofMonth'].str.replace('c-', '').astype(int)\n",
        "df['DayOfWeek'] = df['DayOfWeek'].str.replace('c-', '').astype(int)\n",
        "mapping = {'N': 0, 'Y': 1}\n",
        "df['dep_delayed_15min'] = df['dep_delayed_15min'].map(mapping)\n",
        "print(df.head)\n",
        "cate = df.select_dtypes(include=['object']).columns\n",
        "print(cate)"
      ],
      "metadata": {
        "id": "J-fY91whrDmo",
        "colab": {
          "base_uri": "https://localhost:8080/"
        },
        "outputId": "c60edd67-e991-498b-a58c-14ce5f8b4d32"
      },
      "execution_count": 28,
      "outputs": [
        {
          "output_type": "stream",
          "name": "stdout",
          "text": [
            "<bound method NDFrame.head of        Month  DayofMonth  DayOfWeek  DepTime UniqueCarrier Origin Dest  \\\n",
            "0          8          21          7     1934            AA    ATL  DFW   \n",
            "1          4          20          3     1548            US    PIT  MCO   \n",
            "2          9           2          5     1422            XE    RDU  CLE   \n",
            "3         11          25          6     1015            OO    DEN  MEM   \n",
            "4         10           7          6     1828            WN    MDW  OMA   \n",
            "...      ...         ...        ...      ...           ...    ...  ...   \n",
            "99995      5           4          3     1618            OO    SFO  RDD   \n",
            "99996      1          18          3      804            CO    EWR  DAB   \n",
            "99997      1          24          2     1901            NW    DTW  IAH   \n",
            "99998      4          27          4     1515            MQ    DFW  GGG   \n",
            "99999     11          17          4     1800            WN    SEA  SMF   \n",
            "\n",
            "       Distance  dep_delayed_15min  \n",
            "0           732                  0  \n",
            "1           834                  0  \n",
            "2           416                  0  \n",
            "3           872                  0  \n",
            "4           423                  1  \n",
            "...         ...                ...  \n",
            "99995       199                  0  \n",
            "99996       884                  0  \n",
            "99997      1076                  0  \n",
            "99998       140                  0  \n",
            "99999       605                  0  \n",
            "\n",
            "[100000 rows x 9 columns]>\n",
            "Index(['UniqueCarrier', 'Origin', 'Dest'], dtype='object')\n"
          ]
        }
      ]
    },
    {
      "cell_type": "code",
      "source": [
        "print(df.Dest.unique().size)\n",
        "#df= pd.get_dummies(df, drop_first=True)\n",
        "\n",
        "X = df.drop(columns=['dep_delayed_15min'])\n",
        "y = df['dep_delayed_15min']\n",
        "\n",
        "X_train, X_test, y_train, y_test = train_test_split(X, y, test_size=0.2, random_state=0)"
      ],
      "metadata": {
        "colab": {
          "base_uri": "https://localhost:8080/"
        },
        "id": "0X-RC23lI-ob",
        "outputId": "a2f6aca6-d3c1-453f-becd-5028fe393ad1"
      },
      "execution_count": 29,
      "outputs": [
        {
          "output_type": "stream",
          "name": "stdout",
          "text": [
            "289\n"
          ]
        }
      ]
    },
    {
      "cell_type": "code",
      "source": [
        "# print(X_train)\n",
        "# print(y_train)\n",
        "train_f=pd.concat([X_train, y_train], axis=1)\n",
        "# print(train_f)\n",
        "print(train_f['dep_delayed_15min'].value_counts())\n",
        "\n",
        "\n",
        "#smote\n",
        "# cate_indices = [df.columns.get_loc(col) for col in df.select_dtypes(include=['object']).columns]\n",
        "# smotenc = SMOTENC(categorical_features=cate_indices, random_state=42)\n",
        "# X_train1, y_train1 = smotenc.fit_resample(X_train, y_train)\n",
        "# train_f = pd.concat([X_train1, y_train1], axis=1)\n",
        "# print(train_f['dep_delayed_15min'].value_counts())\n"
      ],
      "metadata": {
        "colab": {
          "base_uri": "https://localhost:8080/"
        },
        "id": "sF78MbmgK_1M",
        "outputId": "d26d5601-c2cb-4fe5-c132-ad610ec0a49b"
      },
      "execution_count": 30,
      "outputs": [
        {
          "output_type": "stream",
          "name": "stdout",
          "text": [
            "dep_delayed_15min\n",
            "0    64767\n",
            "1    15233\n",
            "Name: count, dtype: int64\n"
          ]
        }
      ]
    },
    {
      "cell_type": "code",
      "source": [
        "\n",
        "pct_delay_by_origin = train_f.groupby('Origin')['dep_delayed_15min'].mean().sort_values(ascending=False).round(3)*100\n",
        "pct_delay_by_origin.head(20)\n",
        "plt.figure(figsize=(10, 6))\n",
        "plt.hist(pct_delay_by_origin.values, bins=25, color='blue', edgecolor='black')\n",
        "# Add labels and title\n",
        "plt.title(\"Distribution of 15+ Minute Delays By Origins\", fontsize=14)\n",
        "plt.xlabel(\"Percentage of 60+ Minute Delays (%)\", fontsize=12)\n",
        "plt.ylabel(\"Frequency\", fontsize=12)\n",
        "\n",
        "# Show the plot\n",
        "plt.show()\n"
      ],
      "metadata": {
        "colab": {
          "base_uri": "https://localhost:8080/",
          "height": 427
        },
        "id": "h-LANO--OM6g",
        "outputId": "ccc98518-7b04-4948-987b-fc81e913f57e"
      },
      "execution_count": 31,
      "outputs": [
        {
          "output_type": "display_data",
          "data": {
            "text/plain": [
              "<Figure size 1000x600 with 1 Axes>"
            ],
            "image/png": "[encoded data removed]"
          },
          "metadata": {}
        }
      ]
    },
    {
      "cell_type": "code",
      "source": [
        "\n",
        "from tensorflow.keras.models import Sequential\n",
        "from tensorflow.keras.layers import Dense, Embedding, Flatten, Dropout\n",
        "from tensorflow.keras.optimizers import Adam\n",
        "from tensorflow.keras import Input\n",
        "from keras.metrics import AUC\n",
        "\n",
        "label_encoder = LabelEncoder()\n",
        "\n",
        "#df['UniqueCarrier'] = label_encoder.fit_transform(df['UniqueCarrier'])\n",
        "#df['Origin'] = label_encoder.fit_transform(df['Origin'])\n",
        "#df['Dest'] = label_encoder.fit_transform(df['Dest'])\n",
        "\n",
        "scaler = StandardScaler()\n",
        "numeric_cols = ['Month', 'DayofMonth', 'DayOfWeek', 'DepTime', 'Distance']\n",
        "df[numeric_cols] = scaler.fit_transform(df[numeric_cols])\n",
        "\n",
        "df = pd.get_dummies(df, columns=['UniqueCarrier','Origin','Dest'], drop_first=True)\n",
        "\n",
        "print(df.head)\n",
        "X = df.drop(columns=['dep_delayed_15min'])\n",
        "y = df['dep_delayed_15min']\n",
        "\n",
        "X_train, X_test, y_train, y_test = train_test_split(X, y, test_size=0.2, random_state=42)\n",
        "#smote\n",
        "print(X_train.shape)\n",
        "cate_indices = [df.columns.get_loc(col) for col in df.select_dtypes(include=['object']).columns]\n",
        "smote = SMOTE(random_state=42)\n",
        "X_train1, y_train1 = smote.fit_resample(X_train, y_train)\n",
        "print(X_train1.shape)"
      ],
      "metadata": {
        "colab": {
          "base_uri": "https://localhost:8080/"
        },
        "id": "xwYz1zWfnhcv",
        "outputId": "948fbb57-71f0-43d5-ee2a-a199291cfaae"
      },
      "execution_count": 32,
      "outputs": [
        {
          "output_type": "stream",
          "name": "stdout",
          "text": [
            "<bound method NDFrame.head of           Month  DayofMonth  DayOfWeek   DepTime  Distance  dep_delayed_15min  \\\n",
            "0      0.428414    0.602254   1.530490  1.243715  0.004530                  0   \n",
            "1     -0.743428    0.488538  -0.477915  0.433431  0.182040                  0   \n",
            "2      0.721374   -1.558338   0.526288  0.168934 -0.545405                  0   \n",
            "3      1.307295    1.057115   1.028389 -0.685433  0.248172                  0   \n",
            "4      1.014335   -0.989761   1.028389  1.021202 -0.533223                  1   \n",
            "...         ...         ...        ...       ...       ...                ...   \n",
            "99995 -0.450468   -1.330908  -0.477915  0.580374 -0.923050                  0   \n",
            "99996 -1.622310    0.261108  -0.477915 -1.128360  0.269055                  0   \n",
            "99997 -1.622310    0.943400  -0.980016  1.174442  0.603192                  0   \n",
            "99998 -0.743428    1.284546   0.024186  0.364158 -1.025727                  0   \n",
            "99999  1.307295    0.147392   0.024186  0.962425 -0.216488                  0   \n",
            "\n",
            "       UniqueCarrier_AQ  UniqueCarrier_AS  UniqueCarrier_B6  UniqueCarrier_CO  \\\n",
            "0                 False             False             False             False   \n",
            "1                 False             False             False             False   \n",
            "2                 False             False             False             False   \n",
            "3                 False             False             False             False   \n",
            "4                 False             False             False             False   \n",
            "...                 ...               ...               ...               ...   \n",
            "99995             False             False             False             False   \n",
            "99996             False             False             False              True   \n",
            "99997             False             False             False             False   \n",
            "99998             False             False             False             False   \n",
            "99999             False             False             False             False   \n",
            "\n",
            "       ...  Dest_TYS  Dest_VCT  Dest_VIS  Dest_VLD  Dest_VPS  Dest_WRG  \\\n",
            "0      ...     False     False     False     False     False     False   \n",
            "1      ...     False     False     False     False     False     False   \n",
            "2      ...     False     False     False     False     False     False   \n",
            "3      ...     False     False     False     False     False     False   \n",
            "4      ...     False     False     False     False     False     False   \n",
            "...    ...       ...       ...       ...       ...       ...       ...   \n",
            "99995  ...     False     False     False     False     False     False   \n",
            "99996  ...     False     False     False     False     False     False   \n",
            "99997  ...     False     False     False     False     False     False   \n",
            "99998  ...     False     False     False     False     False     False   \n",
            "99999  ...     False     False     False     False     False     False   \n",
            "\n",
            "       Dest_WYS  Dest_XNA  Dest_YAK  Dest_YUM  \n",
            "0         False     False     False     False  \n",
            "1         False     False     False     False  \n",
            "2         False     False     False     False  \n",
            "3         False     False     False     False  \n",
            "4         False     False     False     False  \n",
            "...         ...       ...       ...       ...  \n",
            "99995     False     False     False     False  \n",
            "99996     False     False     False     False  \n",
            "99997     False     False     False     False  \n",
            "99998     False     False     False     False  \n",
            "99999     False     False     False     False  \n",
            "\n",
            "[100000 rows x 603 columns]>\n",
            "(80000, 602)\n",
            "(129468, 602)\n"
          ]
        }
      ]
    },
    {
      "cell_type": "code",
      "source": [
        "model = Sequential()\n",
        "\n",
        "\n",
        "model.add(Dense(64, activation='relu'))\n",
        "model.add(Dropout(0.5))\n",
        "model.add(Dense(16, activation='relu'))\n",
        "model.add(Dense(1, activation='sigmoid'))\n",
        "\n",
        "model.compile(optimizer=Adam(), loss='binary_crossentropy', metrics=[AUC()])\n",
        "\n",
        "model.fit(X_train1, y_train1, epochs=10, batch_size=32, validation_data=(X_test, y_test))\n",
        "\n",
        "y_pred_prob = model.predict(X_test)\n",
        "auc_score = roc_auc_score(y_test, y_pred_prob)\n",
        "print(f'AUC Score: {auc_score:.4f}')\n",
        "y_pred_binary = (y_pred_prob > 0.5).astype(int)\n",
        "f1 = f1_score(y_test, y_pred_binary)\n",
        "print(\"F1 Score:\", f1)"
      ],
      "metadata": {
        "colab": {
          "base_uri": "https://localhost:8080/"
        },
        "id": "4XTfIiz8nLc6",
        "outputId": "90863499-cfc0-48fd-c5ae-82e72f416bb1"
      },
      "execution_count": 38,
      "outputs": [
        {
          "output_type": "stream",
          "name": "stdout",
          "text": [
            "Epoch 1/10\n",
            "\u001b[1m4046/4046\u001b[0m \u001b[32m━━━━━━━━━━━━━━━━━━━━\u001b[0m\u001b[37m\u001b[0m \u001b[1m17s\u001b[0m 3ms/step - auc_6: 0.7650 - loss: 0.5637 - val_auc_6: 0.7055 - val_loss: 0.4575\n",
            "Epoch 2/10\n",
            "\u001b[1m4046/4046\u001b[0m \u001b[32m━━━━━━━━━━━━━━━━━━━━\u001b[0m\u001b[37m\u001b[0m \u001b[1m18s\u001b[0m 3ms/step - auc_6: 0.8932 - loss: 0.3784 - val_auc_6: 0.7121 - val_loss: 0.4591\n",
            "Epoch 3/10\n",
            "\u001b[1m4046/4046\u001b[0m \u001b[32m━━━━━━━━━━━━━━━━━━━━\u001b[0m\u001b[37m\u001b[0m \u001b[1m21s\u001b[0m 3ms/step - auc_6: 0.9032 - loss: 0.3604 - val_auc_6: 0.7177 - val_loss: 0.4560\n",
            "Epoch 4/10\n",
            "\u001b[1m4046/4046\u001b[0m \u001b[32m━━━━━━━━━━━━━━━━━━━━\u001b[0m\u001b[37m\u001b[0m \u001b[1m13s\u001b[0m 3ms/step - auc_6: 0.9086 - loss: 0.3507 - val_auc_6: 0.7136 - val_loss: 0.4478\n",
            "Epoch 5/10\n",
            "\u001b[1m4046/4046\u001b[0m \u001b[32m━━━━━━━━━━━━━━━━━━━━\u001b[0m\u001b[37m\u001b[0m \u001b[1m20s\u001b[0m 3ms/step - auc_6: 0.9127 - loss: 0.3444 - val_auc_6: 0.7105 - val_loss: 0.4484\n",
            "Epoch 6/10\n",
            "\u001b[1m4046/4046\u001b[0m \u001b[32m━━━━━━━━━━━━━━━━━━━━\u001b[0m\u001b[37m\u001b[0m \u001b[1m13s\u001b[0m 3ms/step - auc_6: 0.9151 - loss: 0.3411 - val_auc_6: 0.7125 - val_loss: 0.4473\n",
            "Epoch 7/10\n",
            "\u001b[1m4046/4046\u001b[0m \u001b[32m━━━━━━━━━━━━━━━━━━━━\u001b[0m\u001b[37m\u001b[0m \u001b[1m12s\u001b[0m 3ms/step - auc_6: 0.9156 - loss: 0.3392 - val_auc_6: 0.7075 - val_loss: 0.4593\n",
            "Epoch 8/10\n",
            "\u001b[1m4046/4046\u001b[0m \u001b[32m━━━━━━━━━━━━━━━━━━━━\u001b[0m\u001b[37m\u001b[0m \u001b[1m21s\u001b[0m 3ms/step - auc_6: 0.9150 - loss: 0.3399 - val_auc_6: 0.7097 - val_loss: 0.4542\n",
            "Epoch 9/10\n",
            "\u001b[1m4046/4046\u001b[0m \u001b[32m━━━━━━━━━━━━━━━━━━━━\u001b[0m\u001b[37m\u001b[0m \u001b[1m12s\u001b[0m 3ms/step - auc_6: 0.9185 - loss: 0.3336 - val_auc_6: 0.7092 - val_loss: 0.4623\n",
            "Epoch 10/10\n",
            "\u001b[1m4046/4046\u001b[0m \u001b[32m━━━━━━━━━━━━━━━━━━━━\u001b[0m\u001b[37m\u001b[0m \u001b[1m12s\u001b[0m 3ms/step - auc_6: 0.9192 - loss: 0.3333 - val_auc_6: 0.7097 - val_loss: 0.4531\n",
            "\u001b[1m625/625\u001b[0m \u001b[32m━━━━━━━━━━━━━━━━━━━━\u001b[0m\u001b[37m\u001b[0m \u001b[1m1s\u001b[0m 2ms/step\n",
            "AUC Score: 0.7097\n",
            "F1 Score: 0.3095723014256619\n"
          ]
        }
      ]
    }
  ]
}